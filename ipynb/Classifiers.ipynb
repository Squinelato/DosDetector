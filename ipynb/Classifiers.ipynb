{
 "cells": [
  {
   "cell_type": "markdown",
   "metadata": {},
   "source": [
    "# Imports"
   ]
  },
  {
   "cell_type": "code",
   "execution_count": 1,
   "metadata": {},
   "outputs": [],
   "source": [
    "import joblib\n",
    "import numpy as np\n",
    "import pandas as pd\n",
    "from sklearn.svm import SVC\n",
    "from time import perf_counter\n",
    "import sys; sys.path.append(\"..\")\n",
    "from scipy.stats import reciprocal\n",
    "from modules.split import splitting_train_test\n",
    "from sklearn.linear_model import SGDClassifier\n",
    "from sklearn.model_selection import GridSearchCV, RandomizedSearchCV\n",
    "from sklearn.model_selection import StratifiedShuffleSplit, StratifiedKFold"
   ]
  },
  {
   "cell_type": "markdown",
   "metadata": {},
   "source": [
    "# Reading the processed dataset"
   ]
  },
  {
   "cell_type": "code",
   "execution_count": 2,
   "metadata": {},
   "outputs": [],
   "source": [
    "dataset = pd.read_csv('../dataset/processed/SUEE1.csv', index_col=[0, 1])"
   ]
  },
  {
   "cell_type": "code",
   "execution_count": 3,
   "metadata": {},
   "outputs": [
    {
     "data": {
      "text/html": [
       "<div>\n",
       "<style scoped>\n",
       "    .dataframe tbody tr th:only-of-type {\n",
       "        vertical-align: middle;\n",
       "    }\n",
       "\n",
       "    .dataframe tbody tr th {\n",
       "        vertical-align: top;\n",
       "    }\n",
       "\n",
       "    .dataframe thead th {\n",
       "        text-align: right;\n",
       "    }\n",
       "</style>\n",
       "<table border=\"1\" class=\"dataframe\">\n",
       "  <thead>\n",
       "    <tr style=\"text-align: right;\">\n",
       "      <th></th>\n",
       "      <th></th>\n",
       "      <th>number_requisitions</th>\n",
       "      <th>number_different_destinations</th>\n",
       "      <th>mean_frame_length</th>\n",
       "      <th>flag_2</th>\n",
       "      <th>flag_4</th>\n",
       "      <th>flag_16</th>\n",
       "      <th>flag_17</th>\n",
       "      <th>flag_18</th>\n",
       "      <th>flag_20</th>\n",
       "      <th>flag_24</th>\n",
       "      <th>flag_25</th>\n",
       "      <th>flag_82</th>\n",
       "      <th>flag_144</th>\n",
       "      <th>flag_152</th>\n",
       "      <th>flag_194</th>\n",
       "      <th>y</th>\n",
       "    </tr>\n",
       "    <tr>\n",
       "      <th>date</th>\n",
       "      <th>source_ip</th>\n",
       "      <th></th>\n",
       "      <th></th>\n",
       "      <th></th>\n",
       "      <th></th>\n",
       "      <th></th>\n",
       "      <th></th>\n",
       "      <th></th>\n",
       "      <th></th>\n",
       "      <th></th>\n",
       "      <th></th>\n",
       "      <th></th>\n",
       "      <th></th>\n",
       "      <th></th>\n",
       "      <th></th>\n",
       "      <th></th>\n",
       "      <th></th>\n",
       "    </tr>\n",
       "  </thead>\n",
       "  <tbody>\n",
       "    <tr>\n",
       "      <th rowspan=\"5\" valign=\"top\">1970-01-05 01:38:06+00:00</th>\n",
       "      <th>3232235521</th>\n",
       "      <td>0.607143</td>\n",
       "      <td>0.545455</td>\n",
       "      <td>62.142857</td>\n",
       "      <td>0.50</td>\n",
       "      <td>1.0</td>\n",
       "      <td>0.35</td>\n",
       "      <td>0.714286</td>\n",
       "      <td>0.50</td>\n",
       "      <td>0.0</td>\n",
       "      <td>0.529412</td>\n",
       "      <td>0.0</td>\n",
       "      <td>0.0</td>\n",
       "      <td>0.0</td>\n",
       "      <td>0.0</td>\n",
       "      <td>0.0</td>\n",
       "      <td>0</td>\n",
       "    </tr>\n",
       "    <tr>\n",
       "      <th>3232235529</th>\n",
       "      <td>0.142857</td>\n",
       "      <td>0.090909</td>\n",
       "      <td>55.000000</td>\n",
       "      <td>0.25</td>\n",
       "      <td>0.0</td>\n",
       "      <td>0.10</td>\n",
       "      <td>0.000000</td>\n",
       "      <td>0.00</td>\n",
       "      <td>0.0</td>\n",
       "      <td>0.058824</td>\n",
       "      <td>0.0</td>\n",
       "      <td>0.0</td>\n",
       "      <td>0.0</td>\n",
       "      <td>0.0</td>\n",
       "      <td>0.0</td>\n",
       "      <td>0</td>\n",
       "    </tr>\n",
       "    <tr>\n",
       "      <th>3232235531</th>\n",
       "      <td>0.214286</td>\n",
       "      <td>0.090909</td>\n",
       "      <td>54.666667</td>\n",
       "      <td>0.25</td>\n",
       "      <td>0.0</td>\n",
       "      <td>0.15</td>\n",
       "      <td>0.000000</td>\n",
       "      <td>0.00</td>\n",
       "      <td>0.0</td>\n",
       "      <td>0.117647</td>\n",
       "      <td>0.0</td>\n",
       "      <td>0.0</td>\n",
       "      <td>0.0</td>\n",
       "      <td>0.0</td>\n",
       "      <td>0.0</td>\n",
       "      <td>0</td>\n",
       "    </tr>\n",
       "    <tr>\n",
       "      <th>3232235532</th>\n",
       "      <td>0.000000</td>\n",
       "      <td>0.090909</td>\n",
       "      <td>66.800000</td>\n",
       "      <td>0.00</td>\n",
       "      <td>0.0</td>\n",
       "      <td>0.20</td>\n",
       "      <td>0.142857</td>\n",
       "      <td>0.25</td>\n",
       "      <td>0.0</td>\n",
       "      <td>0.235294</td>\n",
       "      <td>0.0</td>\n",
       "      <td>0.0</td>\n",
       "      <td>0.0</td>\n",
       "      <td>0.0</td>\n",
       "      <td>0.0</td>\n",
       "      <td>0</td>\n",
       "    </tr>\n",
       "    <tr>\n",
       "      <th>3232235547</th>\n",
       "      <td>0.000000</td>\n",
       "      <td>0.090909</td>\n",
       "      <td>67.333333</td>\n",
       "      <td>0.00</td>\n",
       "      <td>0.0</td>\n",
       "      <td>0.15</td>\n",
       "      <td>0.142857</td>\n",
       "      <td>0.25</td>\n",
       "      <td>0.0</td>\n",
       "      <td>0.058824</td>\n",
       "      <td>0.0</td>\n",
       "      <td>0.0</td>\n",
       "      <td>0.0</td>\n",
       "      <td>0.0</td>\n",
       "      <td>0.0</td>\n",
       "      <td>0</td>\n",
       "    </tr>\n",
       "  </tbody>\n",
       "</table>\n",
       "</div>"
      ],
      "text/plain": [
       "                                      number_requisitions  \\\n",
       "date                      source_ip                         \n",
       "1970-01-05 01:38:06+00:00 3232235521             0.607143   \n",
       "                          3232235529             0.142857   \n",
       "                          3232235531             0.214286   \n",
       "                          3232235532             0.000000   \n",
       "                          3232235547             0.000000   \n",
       "\n",
       "                                      number_different_destinations  \\\n",
       "date                      source_ip                                   \n",
       "1970-01-05 01:38:06+00:00 3232235521                       0.545455   \n",
       "                          3232235529                       0.090909   \n",
       "                          3232235531                       0.090909   \n",
       "                          3232235532                       0.090909   \n",
       "                          3232235547                       0.090909   \n",
       "\n",
       "                                      mean_frame_length  flag_2  flag_4  \\\n",
       "date                      source_ip                                       \n",
       "1970-01-05 01:38:06+00:00 3232235521          62.142857    0.50     1.0   \n",
       "                          3232235529          55.000000    0.25     0.0   \n",
       "                          3232235531          54.666667    0.25     0.0   \n",
       "                          3232235532          66.800000    0.00     0.0   \n",
       "                          3232235547          67.333333    0.00     0.0   \n",
       "\n",
       "                                      flag_16   flag_17  flag_18  flag_20  \\\n",
       "date                      source_ip                                         \n",
       "1970-01-05 01:38:06+00:00 3232235521     0.35  0.714286     0.50      0.0   \n",
       "                          3232235529     0.10  0.000000     0.00      0.0   \n",
       "                          3232235531     0.15  0.000000     0.00      0.0   \n",
       "                          3232235532     0.20  0.142857     0.25      0.0   \n",
       "                          3232235547     0.15  0.142857     0.25      0.0   \n",
       "\n",
       "                                       flag_24  flag_25  flag_82  flag_144  \\\n",
       "date                      source_ip                                          \n",
       "1970-01-05 01:38:06+00:00 3232235521  0.529412      0.0      0.0       0.0   \n",
       "                          3232235529  0.058824      0.0      0.0       0.0   \n",
       "                          3232235531  0.117647      0.0      0.0       0.0   \n",
       "                          3232235532  0.235294      0.0      0.0       0.0   \n",
       "                          3232235547  0.058824      0.0      0.0       0.0   \n",
       "\n",
       "                                      flag_152  flag_194  y  \n",
       "date                      source_ip                          \n",
       "1970-01-05 01:38:06+00:00 3232235521       0.0       0.0  0  \n",
       "                          3232235529       0.0       0.0  0  \n",
       "                          3232235531       0.0       0.0  0  \n",
       "                          3232235532       0.0       0.0  0  \n",
       "                          3232235547       0.0       0.0  0  "
      ]
     },
     "execution_count": 3,
     "metadata": {},
     "output_type": "execute_result"
    }
   ],
   "source": [
    "dataset.head(5)"
   ]
  },
  {
   "cell_type": "code",
   "execution_count": 4,
   "metadata": {},
   "outputs": [
    {
     "name": "stdout",
     "output_type": "stream",
     "text": [
      "<class 'pandas.core.frame.DataFrame'>\n",
      "MultiIndex: 229324 entries, (1970-01-05 01:38:06+00:00, 3232235521) to (1970-01-05 02:49:24+00:00, 3232235527)\n",
      "Data columns (total 16 columns):\n",
      "number_requisitions              229324 non-null float64\n",
      "number_different_destinations    229324 non-null float64\n",
      "mean_frame_length                229324 non-null float64\n",
      "flag_2                           229324 non-null float64\n",
      "flag_4                           229324 non-null float64\n",
      "flag_16                          229324 non-null float64\n",
      "flag_17                          229324 non-null float64\n",
      "flag_18                          229324 non-null float64\n",
      "flag_20                          229324 non-null float64\n",
      "flag_24                          229324 non-null float64\n",
      "flag_25                          229324 non-null float64\n",
      "flag_82                          229324 non-null float64\n",
      "flag_144                         229324 non-null float64\n",
      "flag_152                         229324 non-null float64\n",
      "flag_194                         229324 non-null float64\n",
      "y                                229324 non-null int64\n",
      "dtypes: float64(15), int64(1)\n",
      "memory usage: 28.9+ MB\n"
     ]
    }
   ],
   "source": [
    "dataset.info()"
   ]
  },
  {
   "cell_type": "code",
   "execution_count": 6,
   "metadata": {},
   "outputs": [
    {
     "data": {
      "text/plain": [
       "0    0.976439\n",
       "1    0.023561\n",
       "Name: y, dtype: float64"
      ]
     },
     "execution_count": 6,
     "metadata": {},
     "output_type": "execute_result"
    }
   ],
   "source": [
    "dataset.y.value_counts(normalize=True)"
   ]
  },
  {
   "cell_type": "markdown",
   "metadata": {},
   "source": [
    "# Splitting the whole dataset into a traing and testing dataset"
   ]
  },
  {
   "cell_type": "code",
   "execution_count": 26,
   "metadata": {},
   "outputs": [],
   "source": [
    "X_train, X_test, y_train, y_test = splitting_train_test(dataset)"
   ]
  },
  {
   "cell_type": "markdown",
   "metadata": {},
   "source": [
    "# Fine-Tuning SVM"
   ]
  },
  {
   "cell_type": "code",
   "execution_count": null,
   "metadata": {},
   "outputs": [],
   "source": [
    "# conjunto de parâmetros\n",
    "parameters = {\n",
    "    'C'      : reciprocal(1, 1000),\n",
    "    'kernel' : ['rbf'],\n",
    "    'gamma'  : ['scale'],\n",
    "    'coef0'  : np.arange(0, 10, 0.001),\n",
    "    'degree' : range(1, 10),\n",
    "}\n",
    "\n",
    "# criado 10 folds para classes desbalanceadas\n",
    "cross_val = StratifiedKFold(n_splits=5)\n",
    "\n",
    "# instanciando o classificador\n",
    "svm_clf = SVC(class_weight='balanced', \n",
    "              decision_function_shape='ovo')\n",
    "\n",
    "# implementando o fine tuning\n",
    "ran_search = RandomizedSearchCV(svm_clf, param_distributions=parameters, \n",
    "                                n_iter=5, cv=cross_val, scoring='f1', \n",
    "                                verbose=3, n_jobs=4, iid=False, refit=True)"
   ]
  },
  {
   "cell_type": "code",
   "execution_count": null,
   "metadata": {},
   "outputs": [],
   "source": [
    "ran_search.fit(X_train, y_train)"
   ]
  },
  {
   "cell_type": "code",
   "execution_count": null,
   "metadata": {},
   "outputs": [],
   "source": [
    "ran_search.best_score_"
   ]
  },
  {
   "cell_type": "code",
   "execution_count": null,
   "metadata": {},
   "outputs": [],
   "source": [
    "ran_search.best_params_"
   ]
  },
  {
   "cell_type": "markdown",
   "metadata": {},
   "source": [
    "# Fine-Tuning SGDClassifier\n"
   ]
  },
  {
   "cell_type": "code",
   "execution_count": 22,
   "metadata": {},
   "outputs": [],
   "source": [
    "# conjunto de parâmetros\n",
    "parameters = {\n",
    "    'alpha'    : [1e-06],\n",
    "    'l1_ratio' : np.arange(0.00, 1.01, 0.01),\n",
    "}\n",
    "\n",
    "# criado 10 folds para classes desbalanceadas\n",
    "cross_val = StratifiedKFold(n_splits=5)\n",
    "\n",
    "# the size of training set\n",
    "n = X_train.shape[0]\n",
    "\n",
    "# instanciando o classificador\n",
    "sgd_clf = SGDClassifier(loss='hinge',\n",
    "                        alpha=0.001,\n",
    "                        class_weight='balanced', \n",
    "                        max_iter = np.ceil(10**6 / n),\n",
    "                        shuffle = True\n",
    "                       )\n",
    "# implementando o fine tuning\n",
    "grid_search_sgdc = GridSearchCV(sgd_clf, param_grid=parameters, cv=cross_val, \n",
    "                               scoring='f1', verbose=3, n_jobs=4, \n",
    "                               iid=False, refit=True)"
   ]
  },
  {
   "cell_type": "code",
   "execution_count": 23,
   "metadata": {},
   "outputs": [
    {
     "name": "stdout",
     "output_type": "stream",
     "text": [
      "Fitting 5 folds for each of 101 candidates, totalling 505 fits\n"
     ]
    },
    {
     "name": "stderr",
     "output_type": "stream",
     "text": [
      "[Parallel(n_jobs=4)]: Using backend LokyBackend with 4 concurrent workers.\n",
      "[Parallel(n_jobs=4)]: Done  24 tasks      | elapsed:   13.4s\n",
      "[Parallel(n_jobs=4)]: Done 120 tasks      | elapsed:   26.0s\n",
      "[Parallel(n_jobs=4)]: Done 280 tasks      | elapsed:   46.6s\n",
      "[Parallel(n_jobs=4)]: Done 505 out of 505 | elapsed:  1.2min finished\n",
      "/home/joao/anaconda3/lib/python3.7/site-packages/sklearn/linear_model/stochastic_gradient.py:561: ConvergenceWarning: Maximum number of iteration reached before convergence. Consider increasing max_iter to improve the fit.\n",
      "  ConvergenceWarning)\n"
     ]
    },
    {
     "data": {
      "text/plain": [
       "GridSearchCV(cv=StratifiedKFold(n_splits=5, random_state=None, shuffle=False),\n",
       "             error_score='raise-deprecating',\n",
       "             estimator=SGDClassifier(alpha=0.001, average=False,\n",
       "                                     class_weight='balanced',\n",
       "                                     early_stopping=False, epsilon=0.1,\n",
       "                                     eta0=0.0, fit_intercept=True,\n",
       "                                     l1_ratio=0.15, learning_rate='optimal',\n",
       "                                     loss='hinge', max_iter=6.0,\n",
       "                                     n_iter_no_change=5, n_jobs=None,\n",
       "                                     penalty='l2'...\n",
       "       0.44, 0.45, 0.46, 0.47, 0.48, 0.49, 0.5 , 0.51, 0.52, 0.53, 0.54,\n",
       "       0.55, 0.56, 0.57, 0.58, 0.59, 0.6 , 0.61, 0.62, 0.63, 0.64, 0.65,\n",
       "       0.66, 0.67, 0.68, 0.69, 0.7 , 0.71, 0.72, 0.73, 0.74, 0.75, 0.76,\n",
       "       0.77, 0.78, 0.79, 0.8 , 0.81, 0.82, 0.83, 0.84, 0.85, 0.86, 0.87,\n",
       "       0.88, 0.89, 0.9 , 0.91, 0.92, 0.93, 0.94, 0.95, 0.96, 0.97, 0.98,\n",
       "       0.99, 1.  ])},\n",
       "             pre_dispatch='2*n_jobs', refit=True, return_train_score=False,\n",
       "             scoring='f1', verbose=3)"
      ]
     },
     "execution_count": 23,
     "metadata": {},
     "output_type": "execute_result"
    }
   ],
   "source": [
    "grid_search_sgdc.fit(X_train, y_train)"
   ]
  },
  {
   "cell_type": "code",
   "execution_count": 24,
   "metadata": {},
   "outputs": [
    {
     "data": {
      "text/plain": [
       "0.7851785973343857"
      ]
     },
     "execution_count": 24,
     "metadata": {},
     "output_type": "execute_result"
    }
   ],
   "source": [
    "grid_search_sgdc.best_score_"
   ]
  },
  {
   "cell_type": "code",
   "execution_count": 25,
   "metadata": {},
   "outputs": [
    {
     "data": {
      "text/plain": [
       "{'alpha': 1e-06, 'l1_ratio': 0.26}"
      ]
     },
     "execution_count": 25,
     "metadata": {},
     "output_type": "execute_result"
    }
   ],
   "source": [
    "grid_search_sgdc.best_params_"
   ]
  },
  {
   "cell_type": "code",
   "execution_count": 11,
   "metadata": {},
   "outputs": [],
   "source": [
    "from sklearn.metrics import balanced_accuracy_score\n",
    "from sklearn.metrics import precision_score\n",
    "from sklearn.metrics import recall_score\n",
    "from sklearn.metrics import f1_score"
   ]
  },
  {
   "cell_type": "code",
   "execution_count": 27,
   "metadata": {},
   "outputs": [],
   "source": [
    "y_pred = grid_search_sgdc.predict(X_test)"
   ]
  },
  {
   "cell_type": "code",
   "execution_count": 17,
   "metadata": {},
   "outputs": [],
   "source": [
    "acc = balanced_accuracy_score(y_test, y_pred)\n",
    "pre = precision_score(y_test, y_pred, labels=np.unique(y_pred))\n",
    "rec = recall_score(y_test, y_pred, labels=np.unique(y_pred))\n",
    "f1s = f1_score(y_test, y_pred, labels=np.unique(y_pred))"
   ]
  },
  {
   "cell_type": "code",
   "execution_count": 18,
   "metadata": {},
   "outputs": [
    {
     "data": {
      "text/plain": [
       "0.5"
      ]
     },
     "execution_count": 18,
     "metadata": {},
     "output_type": "execute_result"
    }
   ],
   "source": [
    "acc"
   ]
  },
  {
   "cell_type": "code",
   "execution_count": 19,
   "metadata": {},
   "outputs": [
    {
     "data": {
      "text/plain": [
       "0.0"
      ]
     },
     "execution_count": 19,
     "metadata": {},
     "output_type": "execute_result"
    }
   ],
   "source": [
    "pre"
   ]
  },
  {
   "cell_type": "code",
   "execution_count": 20,
   "metadata": {},
   "outputs": [
    {
     "data": {
      "text/plain": [
       "0.0"
      ]
     },
     "execution_count": 20,
     "metadata": {},
     "output_type": "execute_result"
    }
   ],
   "source": [
    "rec"
   ]
  },
  {
   "cell_type": "code",
   "execution_count": 21,
   "metadata": {},
   "outputs": [
    {
     "data": {
      "text/plain": [
       "0.0"
      ]
     },
     "execution_count": 21,
     "metadata": {},
     "output_type": "execute_result"
    }
   ],
   "source": [
    "f1s"
   ]
  },
  {
   "cell_type": "markdown",
   "metadata": {},
   "source": [
    "## Saving the optimized classifier"
   ]
  },
  {
   "cell_type": "code",
   "execution_count": 34,
   "metadata": {},
   "outputs": [
    {
     "data": {
      "text/plain": [
       "['../classifiers/svm_lin_4.plk']"
      ]
     },
     "execution_count": 34,
     "metadata": {},
     "output_type": "execute_result"
    }
   ],
   "source": [
    "joblib.dump(grid_search_sgdc.best_estimator_, '../classifiers/svm_lin_4.plk')"
   ]
  },
  {
   "cell_type": "markdown",
   "metadata": {},
   "source": [
    "# Foo "
   ]
  },
  {
   "cell_type": "code",
   "execution_count": 5,
   "metadata": {},
   "outputs": [],
   "source": [
    "sig = SVC(C=9.829998870668184, coef0=5.811, degree=3, gamma='scale', kernel='sigmoid')"
   ]
  },
  {
   "cell_type": "code",
   "execution_count": 6,
   "metadata": {},
   "outputs": [
    {
     "data": {
      "text/plain": [
       "SVC(C=9.829998870668184, cache_size=200, class_weight=None, coef0=5.811,\n",
       "    decision_function_shape='ovr', degree=3, gamma='scale', kernel='sigmoid',\n",
       "    max_iter=-1, probability=False, random_state=None, shrinking=True,\n",
       "    tol=0.001, verbose=False)"
      ]
     },
     "execution_count": 6,
     "metadata": {},
     "output_type": "execute_result"
    }
   ],
   "source": [
    "sig.fit(X_train, y_train)"
   ]
  },
  {
   "cell_type": "code",
   "execution_count": 8,
   "metadata": {},
   "outputs": [
    {
     "data": {
      "text/plain": [
       "['../classifiers/svm_sig.plk']"
      ]
     },
     "execution_count": 8,
     "metadata": {},
     "output_type": "execute_result"
    }
   ],
   "source": [
    "joblib.dump(sig, '../classifiers/svm_sig.plk')"
   ]
  },
  {
   "cell_type": "code",
   "execution_count": 9,
   "metadata": {},
   "outputs": [],
   "source": [
    "y_pred = sig.predict(X_test)"
   ]
  },
  {
   "cell_type": "code",
   "execution_count": null,
   "metadata": {},
   "outputs": [],
   "source": []
  }
 ],
 "metadata": {
  "kernelspec": {
   "display_name": "Python 3",
   "language": "python",
   "name": "python3"
  },
  "language_info": {
   "codemirror_mode": {
    "name": "ipython",
    "version": 3
   },
   "file_extension": ".py",
   "mimetype": "text/x-python",
   "name": "python",
   "nbconvert_exporter": "python",
   "pygments_lexer": "ipython3",
   "version": "3.7.3"
  }
 },
 "nbformat": 4,
 "nbformat_minor": 2
}
